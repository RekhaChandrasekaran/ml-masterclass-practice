{
 "cells": [
  {
   "cell_type": "markdown",
   "metadata": {},
   "source": [
    "<h1 style=\"font-size:42px; text-align:center; margin-bottom:30px;\"><span style=\"color:SteelBlue\">Module 1:</span> The Briefing Room</h1>\n",
    "<hr>\n",
    "\n",
    "### In this module...\n",
    "\n",
    "In this module, we'll arm you with the best tools for tackling machine learning.\n",
    "\n",
    "We'll cover...\n",
    "\n",
    "1. [Intro to Practical Machine Learning](#intro)\n",
    "2. [The Machine Learning Masterclass](#masterclass)\n",
    "3. [Your Arsenal](#arsenal)\n",
    "4. [How to Crush this Course](#crush) (like the HULK)\n",
    "\n",
    "<hr>"
   ]
  },
  {
   "cell_type": "markdown",
   "metadata": {},
   "source": [
    "<br id=\"arsenal\">\n",
    "# 3. Your Arsenal\n",
    "\n",
    "Now it's time to introduce the incredible suite of Python libraries for machine learning. \n",
    "\n",
    "You'll practice using them over the entire course, so right now we'll just introduce them and check that they are installed correctly."
   ]
  },
  {
   "cell_type": "markdown",
   "metadata": {},
   "source": [
    "First, run the cell below if you're using **Python 2**. \n",
    "* If you're using **Python 3**, running the cell won't do anything.\n",
    "* Remember, to run a code cell, click anywhere in the cell, then press <code style=\"color:steelblue\">Shift + Enter</code> on your keyboard.\n"
   ]
  },
  {
   "cell_type": "code",
   "execution_count": 1,
   "metadata": {},
   "outputs": [
    {
     "name": "stdout",
     "output_type": "stream",
     "text": [
      "print() function ready to serve\n"
     ]
    }
   ],
   "source": [
    "from __future__ import print_function  # Compatability with Python 3\n",
    "print( 'print() function ready to serve' )"
   ]
  },
  {
   "cell_type": "markdown",
   "metadata": {},
   "source": [
    "\n",
    "\n",
    "Next, let's import NumPy and Pandas and check their versions."
   ]
  },
  {
   "cell_type": "code",
   "execution_count": 2,
   "metadata": {},
   "outputs": [
    {
     "name": "stdout",
     "output_type": "stream",
     "text": [
      "NumPy version: 1.13.3  (At least 1.11.0 is recommended)\n",
      "Pandas version: 0.22.0  (At least 0.19.0 is recommended)\n"
     ]
    }
   ],
   "source": [
    "import numpy as np\n",
    "print( 'NumPy version:', np.__version__, ' (At least 1.11.0 is recommended)' )\n",
    "\n",
    "import pandas as pd\n",
    "print( 'Pandas version:', pd.__version__, ' (At least 0.19.0 is recommended)' )"
   ]
  },
  {
   "cell_type": "markdown",
   "metadata": {},
   "source": [
    "Next, we have 2 essential libraries for data visualization."
   ]
  },
  {
   "cell_type": "code",
   "execution_count": 3,
   "metadata": {},
   "outputs": [
    {
     "name": "stdout",
     "output_type": "stream",
     "text": [
      "Matplotlib version: 2.1.0  (At least 1.5.0 is recommended)\n",
      "Seaborn version: 0.8.0  (At least 0.7.0 is recommended)\n"
     ]
    }
   ],
   "source": [
    "import matplotlib\n",
    "print( 'Matplotlib version:', matplotlib.__version__, ' (At least 1.5.0 is recommended)' )\n",
    "\n",
    "import seaborn as sns\n",
    "print( 'Seaborn version:', sns.__version__, ' (At least 0.7.0 is recommended)' )"
   ]
  },
  {
   "cell_type": "markdown",
   "metadata": {},
   "source": [
    "And finally, **Scikit-Learn**, \"the Aston Marton of Python machine learning.\" library is the same. "
   ]
  },
  {
   "cell_type": "code",
   "execution_count": 4,
   "metadata": {
    "scrolled": true
   },
   "outputs": [
    {
     "name": "stdout",
     "output_type": "stream",
     "text": [
      "Scikit-Learn version: 0.19.1  (At least 0.18.0 is recommended)\n"
     ]
    }
   ],
   "source": [
    "import sklearn\n",
    "print( 'Scikit-Learn version:', sklearn.__version__, ' (At least 0.18.0 is recommended)' )"
   ]
  }
 ],
 "metadata": {
  "anaconda-cloud": {},
  "kernelspec": {
   "display_name": "Python 3",
   "language": "python",
   "name": "python3"
  },
  "language_info": {
   "codemirror_mode": {
    "name": "ipython",
    "version": 3
   },
   "file_extension": ".py",
   "mimetype": "text/x-python",
   "name": "python",
   "nbconvert_exporter": "python",
   "pygments_lexer": "ipython3",
   "version": "3.6.3"
  }
 },
 "nbformat": 4,
 "nbformat_minor": 2
}
